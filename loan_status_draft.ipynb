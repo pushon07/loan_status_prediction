{
 "cells": [
  {
   "cell_type": "code",
   "execution_count": 2,
   "metadata": {
    "collapsed": false
   },
   "outputs": [
    {
     "name": "stdout",
     "output_type": "stream",
     "text": [
      "Populating the interactive namespace from numpy and matplotlib\n"
     ]
    }
   ],
   "source": [
    "import pandas as pd\n",
    "import numpy as np\n",
    "import matplotlib.pyplot as plt\n",
    "\n",
    "from sklearn.ensemble import VotingClassifier\n",
    "\n",
    "from sklearn.ensemble import RandomForestClassifier\n",
    "from sklearn.decomposition import PCA\n",
    "from sklearn.linear_model import LogisticRegression\n",
    "from sklearn.ensemble import GradientBoostingClassifier\n",
    "from sklearn.neighbors import KNeighborsClassifier\n",
    "from sklearn import svm\n",
    "\n",
    "from sklearn.model_selection import train_test_split\n",
    "from sklearn import feature_extraction\n",
    "from sklearn.model_selection import GridSearchCV\n",
    "from sklearn.metrics import accuracy_score, make_scorer\n",
    "from sklearn.pipeline import Pipeline\n",
    "\n",
    "%pylab inline"
   ]
  },
  {
   "cell_type": "code",
   "execution_count": 3,
   "metadata": {
    "collapsed": true
   },
   "outputs": [],
   "source": [
    "## Load data\n",
    "csv_file_path = \"loan.csv\"\n",
    "\n",
    "loan = pd.read_csv(csv_file_path, low_memory=False)"
   ]
  },
  {
   "cell_type": "code",
   "execution_count": null,
   "metadata": {
    "collapsed": true
   },
   "outputs": [],
   "source": [
    "#loan[['Current Loan Amount', 'y', 'Credit Score', 'Annual Income', 'Monthly Debt', 'Years of Credit History', 'Months since last delinquent','Number of Open Accounts', 'Number of Credit Problems', 'Current Credit Balance', 'Bankruptcies', 'Tax Liens']].corr()"
   ]
  },
  {
   "cell_type": "code",
   "execution_count": 4,
   "metadata": {
    "collapsed": false
   },
   "outputs": [
    {
     "data": {
      "text/plain": [
       "Loan ID                             0\n",
       "Customer ID                         0\n",
       "Loan Status                         0\n",
       "Current Loan Amount                 0\n",
       "Term                                0\n",
       "Credit Score                    21338\n",
       "Years in current job                0\n",
       "Home Ownership                      0\n",
       "Annual Income                   21338\n",
       "Purpose                             0\n",
       "Monthly Debt                        0\n",
       "Years of Credit History             0\n",
       "Months since last delinquent    59003\n",
       "Number of Open Accounts             0\n",
       "Number of Credit Problems           0\n",
       "Current Credit Balance              0\n",
       "Maximum Open Credit                 0\n",
       "Bankruptcies                      228\n",
       "Tax Liens                          11\n",
       "dtype: int64"
      ]
     },
     "execution_count": 4,
     "metadata": {},
     "output_type": "execute_result"
    }
   ],
   "source": [
    "# Remove duplicate and other missing rows\n",
    "loan.isnull().sum()\n",
    "loan.drop_duplicates(subset=['Loan ID'], inplace=True)\n",
    "loan.dropna(subset=['Tax Liens'], inplace=True)\n",
    "loan.dropna(thresh=17, inplace=True)\n"
   ]
  },
  {
   "cell_type": "code",
   "execution_count": 59,
   "metadata": {
    "collapsed": true
   },
   "outputs": [],
   "source": [
    "##Impute missing values with median\n",
    "loan['Credit Score'] = loan['Credit Score'].fillna(value=loan['Credit Score'].median())\n",
    "loan['Bankruptcies'] = loan['Bankruptcies'].fillna(value=loan['Bankruptcies'].median())\n",
    "loan['Annual Income'] = loan['Annual Income'].fillna(value=loan['Annual Income'].median())\n",
    "loan['Months since last delinquent'] = loan['Months since last delinquent'].fillna(value=loan['Months since last delinquent'].median())"
   ]
  },
  {
   "cell_type": "code",
   "execution_count": 6,
   "metadata": {
    "collapsed": false
   },
   "outputs": [
    {
     "data": {
      "text/html": [
       "<div>\n",
       "<table border=\"1\" class=\"dataframe\">\n",
       "  <thead>\n",
       "    <tr style=\"text-align: right;\">\n",
       "      <th></th>\n",
       "      <th>Loan ID</th>\n",
       "      <th>Customer ID</th>\n",
       "      <th>Loan Status</th>\n",
       "      <th>Current Loan Amount</th>\n",
       "      <th>Term</th>\n",
       "      <th>Credit Score</th>\n",
       "      <th>Years in current job</th>\n",
       "      <th>Home Ownership</th>\n",
       "      <th>Annual Income</th>\n",
       "      <th>Purpose</th>\n",
       "      <th>Monthly Debt</th>\n",
       "      <th>Years of Credit History</th>\n",
       "      <th>Months since last delinquent</th>\n",
       "      <th>Number of Open Accounts</th>\n",
       "      <th>Number of Credit Problems</th>\n",
       "      <th>Current Credit Balance</th>\n",
       "      <th>Maximum Open Credit</th>\n",
       "      <th>Bankruptcies</th>\n",
       "      <th>Tax Liens</th>\n",
       "    </tr>\n",
       "  </thead>\n",
       "  <tbody>\n",
       "    <tr>\n",
       "      <th>0</th>\n",
       "      <td>6cf51492-02a2-423e-b93d-676f05b9ad53</td>\n",
       "      <td>7c202b37-2add-44e8-9aea-d5b119aea935</td>\n",
       "      <td>Charged Off</td>\n",
       "      <td>12232</td>\n",
       "      <td>Short Term</td>\n",
       "      <td>7280.0</td>\n",
       "      <td>&lt; 1 year</td>\n",
       "      <td>Rent</td>\n",
       "      <td>46643.0</td>\n",
       "      <td>Debt Consolidation</td>\n",
       "      <td>777.39</td>\n",
       "      <td>18.0</td>\n",
       "      <td>10.0</td>\n",
       "      <td>12</td>\n",
       "      <td>0</td>\n",
       "      <td>6762</td>\n",
       "      <td>7946</td>\n",
       "      <td>0.0</td>\n",
       "      <td>0.0</td>\n",
       "    </tr>\n",
       "    <tr>\n",
       "      <th>1</th>\n",
       "      <td>552e7ade-4292-4354-9ff9-c48031697d72</td>\n",
       "      <td>e7217b0a-07ac-47dd-b379-577b5a35b7c6</td>\n",
       "      <td>Charged Off</td>\n",
       "      <td>25014</td>\n",
       "      <td>Long Term</td>\n",
       "      <td>7330.0</td>\n",
       "      <td>10+ years</td>\n",
       "      <td>Home Mortgage</td>\n",
       "      <td>81099.0</td>\n",
       "      <td>Debt Consolidation</td>\n",
       "      <td>892.09</td>\n",
       "      <td>26.7</td>\n",
       "      <td>NaN</td>\n",
       "      <td>14</td>\n",
       "      <td>0</td>\n",
       "      <td>35706</td>\n",
       "      <td>77961</td>\n",
       "      <td>0.0</td>\n",
       "      <td>0.0</td>\n",
       "    </tr>\n",
       "    <tr>\n",
       "      <th>2</th>\n",
       "      <td>9b5e32b3-8d76-4801-afc8-d729d5a2e6b9</td>\n",
       "      <td>0a62fc41-16c8-40b5-92ff-9e4b763ce714</td>\n",
       "      <td>Charged Off</td>\n",
       "      <td>16117</td>\n",
       "      <td>Short Term</td>\n",
       "      <td>7240.0</td>\n",
       "      <td>9 years</td>\n",
       "      <td>Home Mortgage</td>\n",
       "      <td>60438.0</td>\n",
       "      <td>Home Improvements</td>\n",
       "      <td>1244.02</td>\n",
       "      <td>16.7</td>\n",
       "      <td>32.0</td>\n",
       "      <td>11</td>\n",
       "      <td>1</td>\n",
       "      <td>11275</td>\n",
       "      <td>14815</td>\n",
       "      <td>1.0</td>\n",
       "      <td>0.0</td>\n",
       "    </tr>\n",
       "    <tr>\n",
       "      <th>3</th>\n",
       "      <td>5419b7c7-ac11-4be2-a8a7-b131fb6d6dbe</td>\n",
       "      <td>30f36c59-5182-4482-8bbb-5b736849ae43</td>\n",
       "      <td>Charged Off</td>\n",
       "      <td>11716</td>\n",
       "      <td>Short Term</td>\n",
       "      <td>7400.0</td>\n",
       "      <td>3 years</td>\n",
       "      <td>Rent</td>\n",
       "      <td>34171.0</td>\n",
       "      <td>Debt Consolidation</td>\n",
       "      <td>990.94</td>\n",
       "      <td>10.0</td>\n",
       "      <td>NaN</td>\n",
       "      <td>21</td>\n",
       "      <td>0</td>\n",
       "      <td>7009</td>\n",
       "      <td>43533</td>\n",
       "      <td>0.0</td>\n",
       "      <td>0.0</td>\n",
       "    </tr>\n",
       "    <tr>\n",
       "      <th>4</th>\n",
       "      <td>1450910f-9495-4fc9-afaf-9bdf4b9821df</td>\n",
       "      <td>70c26012-bba5-42c0-8dcb-75295ada31bb</td>\n",
       "      <td>Charged Off</td>\n",
       "      <td>9789</td>\n",
       "      <td>Long Term</td>\n",
       "      <td>6860.0</td>\n",
       "      <td>10+ years</td>\n",
       "      <td>Home Mortgage</td>\n",
       "      <td>47003.0</td>\n",
       "      <td>Home Improvements</td>\n",
       "      <td>503.71</td>\n",
       "      <td>16.7</td>\n",
       "      <td>25.0</td>\n",
       "      <td>13</td>\n",
       "      <td>1</td>\n",
       "      <td>16913</td>\n",
       "      <td>19553</td>\n",
       "      <td>1.0</td>\n",
       "      <td>0.0</td>\n",
       "    </tr>\n",
       "  </tbody>\n",
       "</table>\n",
       "</div>"
      ],
      "text/plain": [
       "                                Loan ID                           Customer ID  \\\n",
       "0  6cf51492-02a2-423e-b93d-676f05b9ad53  7c202b37-2add-44e8-9aea-d5b119aea935   \n",
       "1  552e7ade-4292-4354-9ff9-c48031697d72  e7217b0a-07ac-47dd-b379-577b5a35b7c6   \n",
       "2  9b5e32b3-8d76-4801-afc8-d729d5a2e6b9  0a62fc41-16c8-40b5-92ff-9e4b763ce714   \n",
       "3  5419b7c7-ac11-4be2-a8a7-b131fb6d6dbe  30f36c59-5182-4482-8bbb-5b736849ae43   \n",
       "4  1450910f-9495-4fc9-afaf-9bdf4b9821df  70c26012-bba5-42c0-8dcb-75295ada31bb   \n",
       "\n",
       "   Loan Status  Current Loan Amount        Term  Credit Score  \\\n",
       "0  Charged Off                12232  Short Term        7280.0   \n",
       "1  Charged Off                25014   Long Term        7330.0   \n",
       "2  Charged Off                16117  Short Term        7240.0   \n",
       "3  Charged Off                11716  Short Term        7400.0   \n",
       "4  Charged Off                 9789   Long Term        6860.0   \n",
       "\n",
       "  Years in current job Home Ownership  Annual Income             Purpose  \\\n",
       "0             < 1 year           Rent        46643.0  Debt Consolidation   \n",
       "1            10+ years  Home Mortgage        81099.0  Debt Consolidation   \n",
       "2              9 years  Home Mortgage        60438.0   Home Improvements   \n",
       "3              3 years           Rent        34171.0  Debt Consolidation   \n",
       "4            10+ years  Home Mortgage        47003.0   Home Improvements   \n",
       "\n",
       "  Monthly Debt  Years of Credit History  Months since last delinquent  \\\n",
       "0       777.39                     18.0                          10.0   \n",
       "1       892.09                     26.7                           NaN   \n",
       "2      1244.02                     16.7                          32.0   \n",
       "3       990.94                     10.0                           NaN   \n",
       "4       503.71                     16.7                          25.0   \n",
       "\n",
       "   Number of Open Accounts  Number of Credit Problems  Current Credit Balance  \\\n",
       "0                       12                          0                    6762   \n",
       "1                       14                          0                   35706   \n",
       "2                       11                          1                   11275   \n",
       "3                       21                          0                    7009   \n",
       "4                       13                          1                   16913   \n",
       "\n",
       "  Maximum Open Credit  Bankruptcies  Tax Liens  \n",
       "0                7946           0.0        0.0  \n",
       "1               77961           0.0        0.0  \n",
       "2               14815           1.0        0.0  \n",
       "3               43533           0.0        0.0  \n",
       "4               19553           1.0        0.0  "
      ]
     },
     "execution_count": 6,
     "metadata": {},
     "output_type": "execute_result"
    }
   ],
   "source": [
    "loan.head()"
   ]
  },
  {
   "cell_type": "code",
   "execution_count": 7,
   "metadata": {
    "collapsed": false
   },
   "outputs": [
    {
     "name": "stdout",
     "output_type": "stream",
     "text": [
      "Loan ID\n",
      "Customer ID\n",
      "Loan Status\n",
      "Term\n",
      "Years in current job\n",
      "Home Ownership\n",
      "Purpose\n",
      "Monthly Debt\n",
      "Maximum Open Credit\n"
     ]
    }
   ],
   "source": [
    "for y in loan.columns:\n",
    "    if(loan[y].dtype == 'object'):\n",
    "          print y"
   ]
  },
  {
   "cell_type": "code",
   "execution_count": 60,
   "metadata": {
    "collapsed": true
   },
   "outputs": [],
   "source": [
    "#Convert 'Monthly Debt' into float\n",
    "loan['Monthly Debt'] = loan['Monthly Debt'].str.replace('$', '') #remove '$' from values before converting them to floats\n",
    "loan['Monthly Debt'] = loan['Monthly Debt'].astype(float).fillna(loan['Monthly Debt'].median())"
   ]
  },
  {
   "cell_type": "code",
   "execution_count": 61,
   "metadata": {
    "collapsed": true
   },
   "outputs": [],
   "source": [
    "#Convert 'Maximum Open Credit' into float\n",
    "loan = (loan.drop('Maximum Open Credit', axis=1)\n",
    "\t.join(loan['Maximum Open Credit'].apply(pd.to_numeric, errors='coerce')))\n",
    "loan['Maximum Open Credit'] = loan['Maximum Open Credit'].fillna(value=loan['Maximum Open Credit'].median())"
   ]
  },
  {
   "cell_type": "code",
   "execution_count": 62,
   "metadata": {
    "collapsed": true
   },
   "outputs": [],
   "source": [
    "#encode 'Years in current job' into float\n",
    "map_dict = {'n/a':0.0, '< 1 year':0.5, '1 year':1, '2 years':2, '3 years':3, '4 years':4, '5 years':5, '6 years':6, '7 years':7, '8 years':8, '9 years':9, '10+ years':11}\n",
    "loan['Years in current job'] = loan['Years in current job'].map(map_dict)"
   ]
  },
  {
   "cell_type": "code",
   "execution_count": 63,
   "metadata": {
    "collapsed": false
   },
   "outputs": [],
   "source": [
    "##separate target variable from train data\n",
    "loan_target = loan['Loan Status']\n",
    "loan_target = loan_target.map({'Fully Paid':1, 'Charged Off':0})\n",
    "loan.drop(['Loan Status', 'Customer ID', 'Loan ID'], axis=1, inplace=True)"
   ]
  },
  {
   "cell_type": "code",
   "execution_count": 64,
   "metadata": {
    "collapsed": true
   },
   "outputs": [],
   "source": [
    "##Apply one-hot encoding\n",
    "def one_hot_dataframe(data, cols, replace=False):\n",
    "    vec = feature_extraction.DictVectorizer()\n",
    "    mkdict = lambda row: dict((col, row[col]) for col in cols)\n",
    "    vecData = pd.DataFrame(vec.fit_transform(data[cols].apply(mkdict, axis=1)).toarray())\n",
    "    vecData.columns = vec.get_feature_names()\n",
    "    vecData.index = data.index\n",
    "    if replace:\n",
    "        data = data.drop(cols, axis=1)\n",
    "        data = data.join(vecData)\n",
    "    return (data, vecData)\n",
    "\n",
    "loan, loan_n = one_hot_dataframe(loan, ['Home Ownership', 'Purpose', 'Term'], replace=True)"
   ]
  },
  {
   "cell_type": "code",
   "execution_count": 65,
   "metadata": {
    "collapsed": true
   },
   "outputs": [],
   "source": [
    "#train and test data split \n",
    "X_train, X_test, y_train, y_test = train_test_split(loan, loan_target, test_size=0.20, random_state=33)"
   ]
  },
  {
   "cell_type": "code",
   "execution_count": null,
   "metadata": {
    "collapsed": false
   },
   "outputs": [],
   "source": [
    "##RandomForest\n",
    "## GridSearchCV used for parameter optimization\n",
    "param_grid = {'n_estimators': [100, 200, 300], 'max_features': [4, 6, 8]}\n",
    "clf = GridSearchCV(RandomForestClassifier(), param_grid, cv=5, scoring=make_scorer(accuracy_score))\n",
    "clf.fit(X_train, y_train)\n",
    "clf.best_params_"
   ]
  },
  {
   "cell_type": "code",
   "execution_count": 31,
   "metadata": {
    "collapsed": false
   },
   "outputs": [
    {
     "name": "stdout",
     "output_type": "stream",
     "text": [
      "RandomForest Accuracy:0.78698 \n",
      "\n"
     ]
    }
   ],
   "source": [
    "##make model with best params\n",
    "model_rf = RandomForestClassifier(n_estimators=300, max_features=6)\n",
    "#model_rf = LogisticRegression(max_iter=300, random_state=1)\n",
    "model_rf.fit(X_train, y_train)\n",
    "y_pred = model_rf.predict(X_test)\n",
    "print \"RandomForest Accuracy:{0:.5f}\".format(accuracy_score(y_test, y_pred)), \"\\n\""
   ]
  },
  {
   "cell_type": "code",
   "execution_count": 32,
   "metadata": {
    "collapsed": false
   },
   "outputs": [
    {
     "name": "stdout",
     "output_type": "stream",
     "text": [
      "Printing Feature Importances of RandomForest\n",
      " 1) Current Loan Amount                      0.226496\n",
      " 2) Credit Score                             0.143848\n",
      " 3) Years in current job                     0.080945\n",
      " 4) Annual Income                            0.080513\n",
      " 5) Monthly Debt                             0.079912\n",
      " 6) Years of Credit History                  0.078847\n",
      " 7) Months since last delinquent             0.075296\n",
      " 8) Number of Open Accounts                  0.053419\n",
      " 9) Number of Credit Problems                0.051810\n",
      "10) Current Credit Balance                   0.041134\n",
      "11) Bankruptcies                             0.013846\n",
      "12) Tax Liens                                0.013639\n",
      "13) Maximum Open Credit                      0.008297\n",
      "14) Home Ownership=HaveMortgage              0.007098\n",
      "15) Home Ownership=Home Mortgage             0.006020\n",
      "16) Home Ownership=Own Home                  0.005340\n",
      "17) Home Ownership=Rent                      0.005036\n",
      "18) Purpose=Business Loan                    0.004372\n",
      "19) Purpose=Buy House                        0.003949\n",
      "20) Purpose=Buy a Car                        0.003858\n",
      "21) Purpose=Debt Consolidation               0.002793\n",
      "22) Purpose=Educational Expenses             0.002780\n",
      "23) Purpose=Home Improvements                0.002669\n",
      "24) Purpose=Medical Bills                    0.001771\n",
      "25) Purpose=Other                            0.001390\n",
      "26) Purpose=Take a Trip                      0.001111\n",
      "27) Purpose=major_purchase                   0.001008\n",
      "28) Purpose=moving                           0.000723\n",
      "29) Purpose=other                            0.000691\n",
      "30) Purpose=renewable_energy                 0.000397\n",
      "31) Purpose=small_business                   0.000301\n",
      "32) Purpose=vacation                         0.000261\n",
      "33) Purpose=wedding                          0.000197\n",
      "34) Term=Long Term                           0.000180\n",
      "35) Term=Short Term                          0.000054\n"
     ]
    }
   ],
   "source": [
    "##Feature importance table\n",
    "feat_labels = X_train.columns\n",
    "importances = model_rf.feature_importances_\n",
    "indices = np.argsort(importances)[::-1]\n",
    "print \"Printing Feature Importances of RandomForest\"\n",
    "for f in range(X_train.shape[1]):\n",
    "    print \"%2d) %-*s %f\" % (f + 1, 40, feat_labels[f], importances[indices[f]])\n"
   ]
  },
  {
   "cell_type": "code",
   "execution_count": 37,
   "metadata": {
    "collapsed": false
   },
   "outputs": [
    {
     "ename": "IndexError",
     "evalue": "only integers, slices (`:`), ellipsis (`...`), numpy.newaxis (`None`) and integer or boolean arrays are valid indices",
     "output_type": "error",
     "traceback": [
      "\u001b[0;31m---------------------------------------------------------------------------\u001b[0m",
      "\u001b[0;31mIndexError\u001b[0m                                Traceback (most recent call last)",
      "\u001b[0;32m<ipython-input-37-6c1b4e7c1b59>\u001b[0m in \u001b[0;36m<module>\u001b[0;34m()\u001b[0m\n\u001b[1;32m      1\u001b[0m \u001b[1;31m#Plot 'Feature Importances'\u001b[0m\u001b[1;33m\u001b[0m\u001b[1;33m\u001b[0m\u001b[0m\n\u001b[1;32m      2\u001b[0m \u001b[0mplt\u001b[0m\u001b[1;33m.\u001b[0m\u001b[0mtitle\u001b[0m\u001b[1;33m(\u001b[0m\u001b[1;34m'Feature Importances'\u001b[0m\u001b[1;33m)\u001b[0m\u001b[1;33m\u001b[0m\u001b[0m\n\u001b[0;32m----> 3\u001b[0;31m plt.bar(range(X_train.shape[1]), importances[indices],\n\u001b[0m\u001b[1;32m      4\u001b[0m         color='lightgreen', align='center')\n\u001b[1;32m      5\u001b[0m \u001b[1;33m\u001b[0m\u001b[0m\n",
      "\u001b[0;31mIndexError\u001b[0m: only integers, slices (`:`), ellipsis (`...`), numpy.newaxis (`None`) and integer or boolean arrays are valid indices"
     ]
    },
    {
     "data": {
      "image/png": "[encoded data removed]",
      "text/plain": [
       "<matplotlib.figure.Figure at 0x37621ba8>"
      ]
     },
     "metadata": {},
     "output_type": "display_data"
    }
   ],
   "source": [
    "#Plot 'Feature Importances'\n",
    "plt.title('Feature Importances')\n",
    "plt.bar(range(X_train.shape[1]), importances[indices],\n",
    "        color='lightgreen', align='center')\n",
    "\n",
    "plt.xticks(range(X_train.shape[1]), feat_labels, rotation=90)\n",
    "plt.xlim([-1, X_train.shape[1]])\n",
    "plt.tight_layout()\n",
    "plt.show()"
   ]
  },
  {
   "cell_type": "code",
   "execution_count": 36,
   "metadata": {
    "collapsed": false
   },
   "outputs": [
    {
     "name": "stderr",
     "output_type": "stream",
     "text": [
      "C:\\Users\\pushon\\Anaconda2\\lib\\site-packages\\sklearn\\utils\\deprecation.py:70: DeprecationWarning: Function transform is deprecated; Support to use estimators as feature selectors will be removed in version 0.19. Use SelectFromModel instead.\n",
      "  warnings.warn(msg, category=DeprecationWarning)\n",
      "C:\\Users\\pushon\\Anaconda2\\lib\\site-packages\\sklearn\\utils\\deprecation.py:70: DeprecationWarning: Function transform is deprecated; Support to use estimators as feature selectors will be removed in version 0.19. Use SelectFromModel instead.\n",
      "  warnings.warn(msg, category=DeprecationWarning)\n"
     ]
    },
    {
     "name": "stdout",
     "output_type": "stream",
     "text": [
      "Train_Accuracy:1.00000 \n",
      "\n",
      "Test_Accuracy:0.78523 \n",
      "\n"
     ]
    }
   ],
   "source": [
    "#Feature Selection in RF\n",
    "X_selected = model_rf.transform(X_train, threshold=0.01)\n",
    "X_selected_test = model_rf.transform(X_test, threshold=0.01)\n",
    "X_selected.shape\n",
    "\n",
    "model_rf_new = RandomForestClassifier(n_estimators=300, max_features=6)\n",
    "model_rf_new.fit(X_selected, y_train)\n",
    "\n",
    "y_pred_new_train = model_rf_new.predict(X_selected)\n",
    "print \"Train_Accuracy:{0:.5f}\".format(accuracy_score(y_train, y_pred_new_train)), \"\\n\"\n",
    "\n",
    "y_pred_new = model_rf_new.predict(X_selected_test)\n",
    "print \"Test_Accuracy:{0:.5f}\".format(accuracy_score(y_test, y_pred_new)), \"\\n\"\n"
   ]
  },
  {
   "cell_type": "code",
   "execution_count": null,
   "metadata": {
    "collapsed": true
   },
   "outputs": [],
   "source": [
    "##Feature extraction using PCA with pipeline\n",
    "pipe_lr = Pipeline([\n",
    "                    ('scl', StandardScaler()),\n",
    "                    ('pca', PCA(n_components=2)),\n",
    "            \n",
    "                    ('clf', RandomForestClassifier(n_estimators=300, max_features=6, random_state=0))])\n",
    "                    #('clf', LogisticRegression(C=10.0, max_iter=500, random_state=0))])\n",
    "pipe_lr.fit(X_train, y_train)\n",
    "print('Train Accuracy: %.5f' % pipe_lr.score(X_train, y_train))\n",
    "print('Test Accuracy: %.5f' % pipe_lr.score(X_test, y_test))"
   ]
  },
  {
   "cell_type": "code",
   "execution_count": null,
   "metadata": {
    "collapsed": true
   },
   "outputs": [],
   "source": [
    "#use different evaluation metrics\n",
    "\n",
    "from sklearn.metrics import recall_score, f1_score, precision_score\n",
    "from sklearn.metrics import roc_auc_score\n",
    "from sklearn.metrics import accuracy_score\n",
    "f1_score(y_true=y_test, y_pred=y_pred)\n",
    "roc_auc_score(y_true=y_test, y_score=y_pred)\n",
    "accuracy_score(y_true=y_test, y_pred=y_pred)"
   ]
  },
  {
   "cell_type": "code",
   "execution_count": null,
   "metadata": {
    "collapsed": true
   },
   "outputs": [],
   "source": [
    "#Ensemle using LogisticRegression, RandomForestClassifier and GradientBoostingClassifier\n",
    "# takes time therefore not used as default\n",
    "\n",
    "def ensemble_classifier(X_train, X_test, y_train, y_test)\n",
    "    sc = StandardScaler()\n",
    "    sc.fit(X_train)\n",
    "    X_train_std = sc.transform(X_train)\n",
    "    X_test_std = sc.transform(X_test)\n",
    "\n",
    "    clf1 = LogisticRegression(max_iter=300, random_state=1)\n",
    "    clf2 = GradientBoostingClassifier(n_estimators=200, learning_rate=0.07, max_features=6, random_state=0)\n",
    "    clf3 = RandomForestClassifier(n_estimators=200, max_features=7, random_state=1)\n",
    "    eclf = VotingClassifier(estimators=[('lr', clf1), ('gnb', clf2), ('rf', clf3)], voting='soft', weights=[3,2,4])\n",
    "\n",
    "    params = {'lr__max_iter': [300, 500], 'rf__n_estimators': [200]}\n",
    "\n",
    "    grid = GridSearchCV(estimator=eclf, param_grid=params, cv=5)\n",
    "    grid = grid.fit(X_train_std, y_train)\n",
    "\n",
    "    y_pred_ens = grid.predict(X_test_std)\n",
    "\n",
    "    print('Ensemble Test Accuracy: %.5f' % accuracy_score(y_test, y_pred_ens))"
   ]
  },
  {
   "cell_type": "code",
   "execution_count": null,
   "metadata": {
    "collapsed": true
   },
   "outputs": [],
   "source": [
    "##Implement Bagging with d\n",
    "\n",
    "clf_gbc = GradientBoostingClassifier(n_estimators=200, learning_rate=0.07, max_features=6, random_state=0)\n",
    "bag = BaggingClassifier(base_estimator=clf_gbc, n_estimators=500,\n",
    "                        max_samples=1.0,\n",
    "                        max_features=1.0,\n",
    "                        bootstrap=True, bootstrap_features=False,\n",
    "                        n_jobs=1, random_state=1)\n",
    "\n",
    "bag = bag.fit(X_train, y_train)\n",
    "y_train_pred = bag.predict(X_train)\n",
    "y_test_pred = bag.predict(X_test)\n",
    "bag_train = accuracy_score(y_train, y_train_pred)\n",
    "bag_test = accuracy_score(y_test, y_test_pred)\n",
    "print('Bagging train/test accuracies %.4f/%.4f' % (bag_train, bag_test))"
   ]
  }
 ],
 "metadata": {
  "kernelspec": {
   "display_name": "Python [default]",
   "language": "python",
   "name": "python2"
  },
  "language_info": {
   "codemirror_mode": {
    "name": "ipython",
    "version": 2
   },
   "file_extension": ".py",
   "mimetype": "text/x-python",
   "name": "python",
   "nbconvert_exporter": "python",
   "pygments_lexer": "ipython2",
   "version": "2.7.12"
  }
 },
 "nbformat": 4,
 "nbformat_minor": 1
}
